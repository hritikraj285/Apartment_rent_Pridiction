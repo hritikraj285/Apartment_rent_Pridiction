{
 "cells": [
  {
   "cell_type": "code",
   "execution_count": 1,
   "id": "a94d4446",
   "metadata": {},
   "outputs": [],
   "source": [
    "# import libraries \n",
    "import pandas as pd\n",
    "import numpy as np\n",
    "import seaborn as sns\n",
    "import plotly.express as px\n",
    "import matplotlib.pyplot as plt\n",
    "from plotly.subplots import make_subplots\n",
    "import plotly.graph_objects as go\n",
    "import plotly.figure_factory as ff\n",
    "import matplotlib.pyplot as plt\n",
    "import matplotlib.pyplot as plt\n",
    "import matplotlib"
   ]
  },
  {
   "cell_type": "code",
   "execution_count": 2,
   "id": "afcbacd3",
   "metadata": {},
   "outputs": [],
   "source": [
    "df = pd.read_csv(r'C:\\Users\\hriti\\Downloads\\_All_Cities_Cleaned.csv\\_All_Cities_Cleaned.csv')"
   ]
  },
  {
   "cell_type": "code",
   "execution_count": 3,
   "id": "42d3edb5",
   "metadata": {},
   "outputs": [
    {
     "data": {
      "text/html": [
       "<div>\n",
       "<style scoped>\n",
       "    .dataframe tbody tr th:only-of-type {\n",
       "        vertical-align: middle;\n",
       "    }\n",
       "\n",
       "    .dataframe tbody tr th {\n",
       "        vertical-align: top;\n",
       "    }\n",
       "\n",
       "    .dataframe thead th {\n",
       "        text-align: right;\n",
       "    }\n",
       "</style>\n",
       "<table border=\"1\" class=\"dataframe\">\n",
       "  <thead>\n",
       "    <tr style=\"text-align: right;\">\n",
       "      <th></th>\n",
       "      <th>seller_type</th>\n",
       "      <th>bedroom</th>\n",
       "      <th>layout_type</th>\n",
       "      <th>property_type</th>\n",
       "      <th>locality</th>\n",
       "      <th>price</th>\n",
       "      <th>area</th>\n",
       "      <th>furnish_type</th>\n",
       "      <th>bathroom</th>\n",
       "      <th>city</th>\n",
       "    </tr>\n",
       "  </thead>\n",
       "  <tbody>\n",
       "    <tr>\n",
       "      <th>0</th>\n",
       "      <td>OWNER</td>\n",
       "      <td>2.0</td>\n",
       "      <td>BHK</td>\n",
       "      <td>Apartment</td>\n",
       "      <td>Bodakdev</td>\n",
       "      <td>20000.0</td>\n",
       "      <td>1450.0</td>\n",
       "      <td>Furnished</td>\n",
       "      <td>2.0</td>\n",
       "      <td>Ahmedabad</td>\n",
       "    </tr>\n",
       "    <tr>\n",
       "      <th>1</th>\n",
       "      <td>OWNER</td>\n",
       "      <td>1.0</td>\n",
       "      <td>RK</td>\n",
       "      <td>Studio Apartment</td>\n",
       "      <td>CG Road</td>\n",
       "      <td>7350.0</td>\n",
       "      <td>210.0</td>\n",
       "      <td>Semi-Furnished</td>\n",
       "      <td>1.0</td>\n",
       "      <td>Ahmedabad</td>\n",
       "    </tr>\n",
       "    <tr>\n",
       "      <th>2</th>\n",
       "      <td>OWNER</td>\n",
       "      <td>3.0</td>\n",
       "      <td>BHK</td>\n",
       "      <td>Apartment</td>\n",
       "      <td>Jodhpur</td>\n",
       "      <td>22000.0</td>\n",
       "      <td>1900.0</td>\n",
       "      <td>Unfurnished</td>\n",
       "      <td>3.0</td>\n",
       "      <td>Ahmedabad</td>\n",
       "    </tr>\n",
       "    <tr>\n",
       "      <th>3</th>\n",
       "      <td>OWNER</td>\n",
       "      <td>2.0</td>\n",
       "      <td>BHK</td>\n",
       "      <td>Independent House</td>\n",
       "      <td>Sanand</td>\n",
       "      <td>13000.0</td>\n",
       "      <td>1285.0</td>\n",
       "      <td>Semi-Furnished</td>\n",
       "      <td>2.0</td>\n",
       "      <td>Ahmedabad</td>\n",
       "    </tr>\n",
       "    <tr>\n",
       "      <th>4</th>\n",
       "      <td>OWNER</td>\n",
       "      <td>2.0</td>\n",
       "      <td>BHK</td>\n",
       "      <td>Independent House</td>\n",
       "      <td>Navrangpura</td>\n",
       "      <td>18000.0</td>\n",
       "      <td>1600.0</td>\n",
       "      <td>Furnished</td>\n",
       "      <td>2.0</td>\n",
       "      <td>Ahmedabad</td>\n",
       "    </tr>\n",
       "    <tr>\n",
       "      <th>5</th>\n",
       "      <td>OWNER</td>\n",
       "      <td>1.0</td>\n",
       "      <td>BHK</td>\n",
       "      <td>Apartment</td>\n",
       "      <td>Vejalpur</td>\n",
       "      <td>8500.0</td>\n",
       "      <td>570.0</td>\n",
       "      <td>Unfurnished</td>\n",
       "      <td>1.0</td>\n",
       "      <td>Ahmedabad</td>\n",
       "    </tr>\n",
       "    <tr>\n",
       "      <th>6</th>\n",
       "      <td>OWNER</td>\n",
       "      <td>1.0</td>\n",
       "      <td>RK</td>\n",
       "      <td>Studio Apartment</td>\n",
       "      <td>Jivraj Park</td>\n",
       "      <td>6000.0</td>\n",
       "      <td>180.0</td>\n",
       "      <td>Semi-Furnished</td>\n",
       "      <td>1.0</td>\n",
       "      <td>Ahmedabad</td>\n",
       "    </tr>\n",
       "    <tr>\n",
       "      <th>7</th>\n",
       "      <td>OWNER</td>\n",
       "      <td>2.0</td>\n",
       "      <td>BHK</td>\n",
       "      <td>Apartment</td>\n",
       "      <td>Nikol</td>\n",
       "      <td>12000.0</td>\n",
       "      <td>1200.0</td>\n",
       "      <td>Semi-Furnished</td>\n",
       "      <td>2.0</td>\n",
       "      <td>Ahmedabad</td>\n",
       "    </tr>\n",
       "    <tr>\n",
       "      <th>8</th>\n",
       "      <td>OWNER</td>\n",
       "      <td>2.0</td>\n",
       "      <td>BHK</td>\n",
       "      <td>Apartment</td>\n",
       "      <td>Shahibuag</td>\n",
       "      <td>13000.0</td>\n",
       "      <td>1126.0</td>\n",
       "      <td>Semi-Furnished</td>\n",
       "      <td>2.0</td>\n",
       "      <td>Ahmedabad</td>\n",
       "    </tr>\n",
       "    <tr>\n",
       "      <th>9</th>\n",
       "      <td>OWNER</td>\n",
       "      <td>4.0</td>\n",
       "      <td>BHK</td>\n",
       "      <td>Independent House</td>\n",
       "      <td>Maninagar</td>\n",
       "      <td>38500.0</td>\n",
       "      <td>3500.0</td>\n",
       "      <td>Furnished</td>\n",
       "      <td>4.0</td>\n",
       "      <td>Ahmedabad</td>\n",
       "    </tr>\n",
       "  </tbody>\n",
       "</table>\n",
       "</div>"
      ],
      "text/plain": [
       "  seller_type  bedroom layout_type      property_type     locality    price  \\\n",
       "0       OWNER      2.0         BHK          Apartment     Bodakdev  20000.0   \n",
       "1       OWNER      1.0          RK   Studio Apartment      CG Road   7350.0   \n",
       "2       OWNER      3.0         BHK          Apartment      Jodhpur  22000.0   \n",
       "3       OWNER      2.0         BHK  Independent House       Sanand  13000.0   \n",
       "4       OWNER      2.0         BHK  Independent House  Navrangpura  18000.0   \n",
       "5       OWNER      1.0         BHK          Apartment     Vejalpur   8500.0   \n",
       "6       OWNER      1.0          RK   Studio Apartment  Jivraj Park   6000.0   \n",
       "7       OWNER      2.0         BHK          Apartment        Nikol  12000.0   \n",
       "8       OWNER      2.0         BHK          Apartment    Shahibuag  13000.0   \n",
       "9       OWNER      4.0         BHK  Independent House    Maninagar  38500.0   \n",
       "\n",
       "     area    furnish_type  bathroom       city  \n",
       "0  1450.0       Furnished       2.0  Ahmedabad  \n",
       "1   210.0  Semi-Furnished       1.0  Ahmedabad  \n",
       "2  1900.0     Unfurnished       3.0  Ahmedabad  \n",
       "3  1285.0  Semi-Furnished       2.0  Ahmedabad  \n",
       "4  1600.0       Furnished       2.0  Ahmedabad  \n",
       "5   570.0     Unfurnished       1.0  Ahmedabad  \n",
       "6   180.0  Semi-Furnished       1.0  Ahmedabad  \n",
       "7  1200.0  Semi-Furnished       2.0  Ahmedabad  \n",
       "8  1126.0  Semi-Furnished       2.0  Ahmedabad  \n",
       "9  3500.0       Furnished       4.0  Ahmedabad  "
      ]
     },
     "execution_count": 3,
     "metadata": {},
     "output_type": "execute_result"
    }
   ],
   "source": [
    "df.head(10)\n"
   ]
  },
  {
   "cell_type": "code",
   "execution_count": 4,
   "id": "2ea5cd35",
   "metadata": {},
   "outputs": [
    {
     "name": "stdout",
     "output_type": "stream",
     "text": [
      "<class 'pandas.core.frame.DataFrame'>\n",
      "RangeIndex: 193011 entries, 0 to 193010\n",
      "Data columns (total 10 columns):\n",
      " #   Column         Non-Null Count   Dtype  \n",
      "---  ------         --------------   -----  \n",
      " 0   seller_type    193011 non-null  object \n",
      " 1   bedroom        193011 non-null  float64\n",
      " 2   layout_type    193011 non-null  object \n",
      " 3   property_type  193011 non-null  object \n",
      " 4   locality       193011 non-null  object \n",
      " 5   price          193011 non-null  float64\n",
      " 6   area           193011 non-null  float64\n",
      " 7   furnish_type   193011 non-null  object \n",
      " 8   bathroom       193011 non-null  float64\n",
      " 9   city           193011 non-null  object \n",
      "dtypes: float64(4), object(6)\n",
      "memory usage: 14.7+ MB\n"
     ]
    }
   ],
   "source": [
    "df.info()"
   ]
  },
  {
   "cell_type": "code",
   "execution_count": 5,
   "id": "555dbf1c",
   "metadata": {},
   "outputs": [
    {
     "data": {
      "text/plain": [
       "(193011, 10)"
      ]
     },
     "execution_count": 5,
     "metadata": {},
     "output_type": "execute_result"
    }
   ],
   "source": [
    "df.shape"
   ]
  },
  {
   "cell_type": "code",
   "execution_count": 6,
   "id": "71dea900",
   "metadata": {},
   "outputs": [
    {
     "name": "stdout",
     "output_type": "stream",
     "text": [
      "There are 85398 duplicate values.\n"
     ]
    },
    {
     "data": {
      "text/html": [
       "<div>\n",
       "<style scoped>\n",
       "    .dataframe tbody tr th:only-of-type {\n",
       "        vertical-align: middle;\n",
       "    }\n",
       "\n",
       "    .dataframe tbody tr th {\n",
       "        vertical-align: top;\n",
       "    }\n",
       "\n",
       "    .dataframe thead th {\n",
       "        text-align: right;\n",
       "    }\n",
       "</style>\n",
       "<table border=\"1\" class=\"dataframe\">\n",
       "  <thead>\n",
       "    <tr style=\"text-align: right;\">\n",
       "      <th></th>\n",
       "      <th>seller_type</th>\n",
       "      <th>bedroom</th>\n",
       "      <th>layout_type</th>\n",
       "      <th>property_type</th>\n",
       "      <th>locality</th>\n",
       "      <th>price</th>\n",
       "      <th>area</th>\n",
       "      <th>furnish_type</th>\n",
       "      <th>bathroom</th>\n",
       "      <th>city</th>\n",
       "    </tr>\n",
       "  </thead>\n",
       "  <tbody>\n",
       "    <tr>\n",
       "      <th>0</th>\n",
       "      <td>OWNER</td>\n",
       "      <td>2.0</td>\n",
       "      <td>BHK</td>\n",
       "      <td>Apartment</td>\n",
       "      <td>Bodakdev</td>\n",
       "      <td>20000.0</td>\n",
       "      <td>1450.0</td>\n",
       "      <td>Furnished</td>\n",
       "      <td>2.0</td>\n",
       "      <td>Ahmedabad</td>\n",
       "    </tr>\n",
       "    <tr>\n",
       "      <th>3</th>\n",
       "      <td>OWNER</td>\n",
       "      <td>2.0</td>\n",
       "      <td>BHK</td>\n",
       "      <td>Independent House</td>\n",
       "      <td>Sanand</td>\n",
       "      <td>13000.0</td>\n",
       "      <td>1285.0</td>\n",
       "      <td>Semi-Furnished</td>\n",
       "      <td>2.0</td>\n",
       "      <td>Ahmedabad</td>\n",
       "    </tr>\n",
       "    <tr>\n",
       "      <th>8</th>\n",
       "      <td>OWNER</td>\n",
       "      <td>2.0</td>\n",
       "      <td>BHK</td>\n",
       "      <td>Apartment</td>\n",
       "      <td>Shahibuag</td>\n",
       "      <td>13000.0</td>\n",
       "      <td>1126.0</td>\n",
       "      <td>Semi-Furnished</td>\n",
       "      <td>2.0</td>\n",
       "      <td>Ahmedabad</td>\n",
       "    </tr>\n",
       "    <tr>\n",
       "      <th>12</th>\n",
       "      <td>AGENT</td>\n",
       "      <td>3.0</td>\n",
       "      <td>BHK</td>\n",
       "      <td>Apartment</td>\n",
       "      <td>Shilaj</td>\n",
       "      <td>20000.0</td>\n",
       "      <td>1440.0</td>\n",
       "      <td>Semi-Furnished</td>\n",
       "      <td>3.0</td>\n",
       "      <td>Ahmedabad</td>\n",
       "    </tr>\n",
       "    <tr>\n",
       "      <th>14</th>\n",
       "      <td>AGENT</td>\n",
       "      <td>2.0</td>\n",
       "      <td>BHK</td>\n",
       "      <td>Apartment</td>\n",
       "      <td>Jodhpur Village</td>\n",
       "      <td>25000.0</td>\n",
       "      <td>1250.0</td>\n",
       "      <td>Furnished</td>\n",
       "      <td>1.0</td>\n",
       "      <td>Ahmedabad</td>\n",
       "    </tr>\n",
       "    <tr>\n",
       "      <th>18</th>\n",
       "      <td>AGENT</td>\n",
       "      <td>2.0</td>\n",
       "      <td>BHK</td>\n",
       "      <td>Apartment</td>\n",
       "      <td>Chandkheda</td>\n",
       "      <td>12500.0</td>\n",
       "      <td>1044.0</td>\n",
       "      <td>Unfurnished</td>\n",
       "      <td>2.0</td>\n",
       "      <td>Ahmedabad</td>\n",
       "    </tr>\n",
       "    <tr>\n",
       "      <th>19</th>\n",
       "      <td>AGENT</td>\n",
       "      <td>2.0</td>\n",
       "      <td>BHK</td>\n",
       "      <td>Apartment</td>\n",
       "      <td>Bodakdev</td>\n",
       "      <td>12000.0</td>\n",
       "      <td>810.0</td>\n",
       "      <td>Unfurnished</td>\n",
       "      <td>2.0</td>\n",
       "      <td>Ahmedabad</td>\n",
       "    </tr>\n",
       "    <tr>\n",
       "      <th>20</th>\n",
       "      <td>AGENT</td>\n",
       "      <td>3.0</td>\n",
       "      <td>BHK</td>\n",
       "      <td>Apartment</td>\n",
       "      <td>Bopal</td>\n",
       "      <td>38000.0</td>\n",
       "      <td>1985.0</td>\n",
       "      <td>Furnished</td>\n",
       "      <td>3.0</td>\n",
       "      <td>Ahmedabad</td>\n",
       "    </tr>\n",
       "    <tr>\n",
       "      <th>21</th>\n",
       "      <td>AGENT</td>\n",
       "      <td>2.0</td>\n",
       "      <td>BHK</td>\n",
       "      <td>Apartment</td>\n",
       "      <td>Prahlad Nagar</td>\n",
       "      <td>14000.0</td>\n",
       "      <td>1256.0</td>\n",
       "      <td>Unfurnished</td>\n",
       "      <td>2.0</td>\n",
       "      <td>Ahmedabad</td>\n",
       "    </tr>\n",
       "    <tr>\n",
       "      <th>22</th>\n",
       "      <td>AGENT</td>\n",
       "      <td>4.0</td>\n",
       "      <td>BHK</td>\n",
       "      <td>Apartment</td>\n",
       "      <td>Satellite</td>\n",
       "      <td>110000.0</td>\n",
       "      <td>3375.0</td>\n",
       "      <td>Furnished</td>\n",
       "      <td>4.0</td>\n",
       "      <td>Ahmedabad</td>\n",
       "    </tr>\n",
       "  </tbody>\n",
       "</table>\n",
       "</div>"
      ],
      "text/plain": [
       "   seller_type  bedroom layout_type      property_type         locality  \\\n",
       "0        OWNER      2.0         BHK          Apartment         Bodakdev   \n",
       "3        OWNER      2.0         BHK  Independent House           Sanand   \n",
       "8        OWNER      2.0         BHK          Apartment        Shahibuag   \n",
       "12       AGENT      3.0         BHK          Apartment           Shilaj   \n",
       "14       AGENT      2.0         BHK          Apartment  Jodhpur Village   \n",
       "18       AGENT      2.0         BHK          Apartment       Chandkheda   \n",
       "19       AGENT      2.0         BHK          Apartment         Bodakdev   \n",
       "20       AGENT      3.0         BHK          Apartment            Bopal   \n",
       "21       AGENT      2.0         BHK          Apartment    Prahlad Nagar   \n",
       "22       AGENT      4.0         BHK          Apartment        Satellite   \n",
       "\n",
       "       price    area    furnish_type  bathroom       city  \n",
       "0    20000.0  1450.0       Furnished       2.0  Ahmedabad  \n",
       "3    13000.0  1285.0  Semi-Furnished       2.0  Ahmedabad  \n",
       "8    13000.0  1126.0  Semi-Furnished       2.0  Ahmedabad  \n",
       "12   20000.0  1440.0  Semi-Furnished       3.0  Ahmedabad  \n",
       "14   25000.0  1250.0       Furnished       1.0  Ahmedabad  \n",
       "18   12500.0  1044.0     Unfurnished       2.0  Ahmedabad  \n",
       "19   12000.0   810.0     Unfurnished       2.0  Ahmedabad  \n",
       "20   38000.0  1985.0       Furnished       3.0  Ahmedabad  \n",
       "21   14000.0  1256.0     Unfurnished       2.0  Ahmedabad  \n",
       "22  110000.0  3375.0       Furnished       4.0  Ahmedabad  "
      ]
     },
     "execution_count": 6,
     "metadata": {},
     "output_type": "execute_result"
    }
   ],
   "source": [
    "print(\"There are {} duplicate values.\".format(df.duplicated().sum()))\n",
    "df[df.duplicated(keep=False)].head(10)"
   ]
  },
  {
   "cell_type": "code",
   "execution_count": 7,
   "id": "50de0692",
   "metadata": {},
   "outputs": [],
   "source": [
    "df = df.drop_duplicates()\n",
    "df = df.reset_index(drop=True)"
   ]
  },
  {
   "cell_type": "code",
   "execution_count": 8,
   "id": "899c6e50",
   "metadata": {},
   "outputs": [
    {
     "name": "stdout",
     "output_type": "stream",
     "text": [
      "There are 0 duplicate values.\n",
      "<class 'pandas.core.frame.DataFrame'>\n",
      "RangeIndex: 107613 entries, 0 to 107612\n",
      "Data columns (total 10 columns):\n",
      " #   Column         Non-Null Count   Dtype  \n",
      "---  ------         --------------   -----  \n",
      " 0   seller_type    107613 non-null  object \n",
      " 1   bedroom        107613 non-null  float64\n",
      " 2   layout_type    107613 non-null  object \n",
      " 3   property_type  107613 non-null  object \n",
      " 4   locality       107613 non-null  object \n",
      " 5   price          107613 non-null  float64\n",
      " 6   area           107613 non-null  float64\n",
      " 7   furnish_type   107613 non-null  object \n",
      " 8   bathroom       107613 non-null  float64\n",
      " 9   city           107613 non-null  object \n",
      "dtypes: float64(4), object(6)\n",
      "memory usage: 8.2+ MB\n"
     ]
    }
   ],
   "source": [
    "print(\"There are {} duplicate values.\".format(df.duplicated().sum()))\n",
    "df.info()"
   ]
  },
  {
   "cell_type": "code",
   "execution_count": 9,
   "id": "2ed2571a",
   "metadata": {},
   "outputs": [
    {
     "data": {
      "text/plain": [
       "seller_type      0\n",
       "bedroom          0\n",
       "layout_type      0\n",
       "property_type    0\n",
       "locality         0\n",
       "price            0\n",
       "area             0\n",
       "furnish_type     0\n",
       "bathroom         0\n",
       "city             0\n",
       "dtype: int64"
      ]
     },
     "execution_count": 9,
     "metadata": {},
     "output_type": "execute_result"
    }
   ],
   "source": [
    "df.isnull().sum()"
   ]
  },
  {
   "cell_type": "code",
   "execution_count": 10,
   "id": "68b8c273",
   "metadata": {},
   "outputs": [
    {
     "data": {
      "text/html": [
       "<div>\n",
       "<style scoped>\n",
       "    .dataframe tbody tr th:only-of-type {\n",
       "        vertical-align: middle;\n",
       "    }\n",
       "\n",
       "    .dataframe tbody tr th {\n",
       "        vertical-align: top;\n",
       "    }\n",
       "\n",
       "    .dataframe thead th {\n",
       "        text-align: right;\n",
       "    }\n",
       "</style>\n",
       "<table border=\"1\" class=\"dataframe\">\n",
       "  <thead>\n",
       "    <tr style=\"text-align: right;\">\n",
       "      <th></th>\n",
       "      <th>seller_type</th>\n",
       "      <th>bedroom</th>\n",
       "      <th>layout_type</th>\n",
       "      <th>property_type</th>\n",
       "      <th>locality</th>\n",
       "      <th>price</th>\n",
       "      <th>area</th>\n",
       "      <th>furnish_type</th>\n",
       "      <th>bathroom</th>\n",
       "      <th>city</th>\n",
       "    </tr>\n",
       "  </thead>\n",
       "  <tbody>\n",
       "    <tr>\n",
       "      <th>0</th>\n",
       "      <td>OWNER</td>\n",
       "      <td>2.0</td>\n",
       "      <td>BHK</td>\n",
       "      <td>Apartment</td>\n",
       "      <td>Bodakdev</td>\n",
       "      <td>20000.0</td>\n",
       "      <td>1450.0</td>\n",
       "      <td>Furnished</td>\n",
       "      <td>2.0</td>\n",
       "      <td>Ahmedabad</td>\n",
       "    </tr>\n",
       "    <tr>\n",
       "      <th>1</th>\n",
       "      <td>OWNER</td>\n",
       "      <td>1.0</td>\n",
       "      <td>RK</td>\n",
       "      <td>Studio Apartment</td>\n",
       "      <td>CG Road</td>\n",
       "      <td>7350.0</td>\n",
       "      <td>210.0</td>\n",
       "      <td>Semi-Furnished</td>\n",
       "      <td>1.0</td>\n",
       "      <td>Ahmedabad</td>\n",
       "    </tr>\n",
       "    <tr>\n",
       "      <th>2</th>\n",
       "      <td>OWNER</td>\n",
       "      <td>3.0</td>\n",
       "      <td>BHK</td>\n",
       "      <td>Apartment</td>\n",
       "      <td>Jodhpur</td>\n",
       "      <td>22000.0</td>\n",
       "      <td>1900.0</td>\n",
       "      <td>Unfurnished</td>\n",
       "      <td>3.0</td>\n",
       "      <td>Ahmedabad</td>\n",
       "    </tr>\n",
       "    <tr>\n",
       "      <th>3</th>\n",
       "      <td>OWNER</td>\n",
       "      <td>2.0</td>\n",
       "      <td>BHK</td>\n",
       "      <td>Independent House</td>\n",
       "      <td>Sanand</td>\n",
       "      <td>13000.0</td>\n",
       "      <td>1285.0</td>\n",
       "      <td>Semi-Furnished</td>\n",
       "      <td>2.0</td>\n",
       "      <td>Ahmedabad</td>\n",
       "    </tr>\n",
       "    <tr>\n",
       "      <th>4</th>\n",
       "      <td>OWNER</td>\n",
       "      <td>2.0</td>\n",
       "      <td>BHK</td>\n",
       "      <td>Independent House</td>\n",
       "      <td>Navrangpura</td>\n",
       "      <td>18000.0</td>\n",
       "      <td>1600.0</td>\n",
       "      <td>Furnished</td>\n",
       "      <td>2.0</td>\n",
       "      <td>Ahmedabad</td>\n",
       "    </tr>\n",
       "    <tr>\n",
       "      <th>5</th>\n",
       "      <td>OWNER</td>\n",
       "      <td>1.0</td>\n",
       "      <td>BHK</td>\n",
       "      <td>Apartment</td>\n",
       "      <td>Vejalpur</td>\n",
       "      <td>8500.0</td>\n",
       "      <td>570.0</td>\n",
       "      <td>Unfurnished</td>\n",
       "      <td>1.0</td>\n",
       "      <td>Ahmedabad</td>\n",
       "    </tr>\n",
       "    <tr>\n",
       "      <th>6</th>\n",
       "      <td>OWNER</td>\n",
       "      <td>1.0</td>\n",
       "      <td>RK</td>\n",
       "      <td>Studio Apartment</td>\n",
       "      <td>Jivraj Park</td>\n",
       "      <td>6000.0</td>\n",
       "      <td>180.0</td>\n",
       "      <td>Semi-Furnished</td>\n",
       "      <td>1.0</td>\n",
       "      <td>Ahmedabad</td>\n",
       "    </tr>\n",
       "    <tr>\n",
       "      <th>7</th>\n",
       "      <td>OWNER</td>\n",
       "      <td>2.0</td>\n",
       "      <td>BHK</td>\n",
       "      <td>Apartment</td>\n",
       "      <td>Nikol</td>\n",
       "      <td>12000.0</td>\n",
       "      <td>1200.0</td>\n",
       "      <td>Semi-Furnished</td>\n",
       "      <td>2.0</td>\n",
       "      <td>Ahmedabad</td>\n",
       "    </tr>\n",
       "    <tr>\n",
       "      <th>8</th>\n",
       "      <td>OWNER</td>\n",
       "      <td>2.0</td>\n",
       "      <td>BHK</td>\n",
       "      <td>Apartment</td>\n",
       "      <td>Shahibuag</td>\n",
       "      <td>13000.0</td>\n",
       "      <td>1126.0</td>\n",
       "      <td>Semi-Furnished</td>\n",
       "      <td>2.0</td>\n",
       "      <td>Ahmedabad</td>\n",
       "    </tr>\n",
       "    <tr>\n",
       "      <th>9</th>\n",
       "      <td>OWNER</td>\n",
       "      <td>4.0</td>\n",
       "      <td>BHK</td>\n",
       "      <td>Independent House</td>\n",
       "      <td>Maninagar</td>\n",
       "      <td>38500.0</td>\n",
       "      <td>3500.0</td>\n",
       "      <td>Furnished</td>\n",
       "      <td>4.0</td>\n",
       "      <td>Ahmedabad</td>\n",
       "    </tr>\n",
       "  </tbody>\n",
       "</table>\n",
       "</div>"
      ],
      "text/plain": [
       "  seller_type  bedroom layout_type      property_type     locality    price  \\\n",
       "0       OWNER      2.0         BHK          Apartment     Bodakdev  20000.0   \n",
       "1       OWNER      1.0          RK   Studio Apartment      CG Road   7350.0   \n",
       "2       OWNER      3.0         BHK          Apartment      Jodhpur  22000.0   \n",
       "3       OWNER      2.0         BHK  Independent House       Sanand  13000.0   \n",
       "4       OWNER      2.0         BHK  Independent House  Navrangpura  18000.0   \n",
       "5       OWNER      1.0         BHK          Apartment     Vejalpur   8500.0   \n",
       "6       OWNER      1.0          RK   Studio Apartment  Jivraj Park   6000.0   \n",
       "7       OWNER      2.0         BHK          Apartment        Nikol  12000.0   \n",
       "8       OWNER      2.0         BHK          Apartment    Shahibuag  13000.0   \n",
       "9       OWNER      4.0         BHK  Independent House    Maninagar  38500.0   \n",
       "\n",
       "     area    furnish_type  bathroom       city  \n",
       "0  1450.0       Furnished       2.0  Ahmedabad  \n",
       "1   210.0  Semi-Furnished       1.0  Ahmedabad  \n",
       "2  1900.0     Unfurnished       3.0  Ahmedabad  \n",
       "3  1285.0  Semi-Furnished       2.0  Ahmedabad  \n",
       "4  1600.0       Furnished       2.0  Ahmedabad  \n",
       "5   570.0     Unfurnished       1.0  Ahmedabad  \n",
       "6   180.0  Semi-Furnished       1.0  Ahmedabad  \n",
       "7  1200.0  Semi-Furnished       2.0  Ahmedabad  \n",
       "8  1126.0  Semi-Furnished       2.0  Ahmedabad  \n",
       "9  3500.0       Furnished       4.0  Ahmedabad  "
      ]
     },
     "execution_count": 10,
     "metadata": {},
     "output_type": "execute_result"
    }
   ],
   "source": [
    "## Since we are working with property data, it is impossible or does not make sense to have 0 values for certain columns\n",
    "# we need to drop observations with value = 0 for these columns\n",
    "# drop NoOfBathroom = 0\n",
    "# drop NoOfBedroom = 0\n",
    "df = df[df[\"bedroom\"] != 0].reset_index(drop=True)\n",
    "df= df[df[\"price\"] != 0].reset_index(drop=True)\n",
    "df = df[df[\"area\"] != 0].reset_index(drop=True)\n",
    "df = df[df[\"bathroom\"] != 0].reset_index(drop=True)\n",
    "df.head(10)"
   ]
  },
  {
   "cell_type": "code",
   "execution_count": 11,
   "id": "56bc2891",
   "metadata": {},
   "outputs": [],
   "source": [
    "des_stats = df.describe(exclude = ['object']).drop(index = ['count'], axis = 0).T\n",
    "skew = []\n",
    "kurt = []\n",
    "num_cols = df.select_dtypes(exclude = ['object']).columns\n",
    "for col in num_cols:\n",
    "    skew.append(df[col].skew().round(1))\n",
    "    kurt.append(df[col].kurt().round(1))\n",
    "\n",
    "stats = pd.DataFrame({'skew':skew,'kurt':kurt}, index = num_cols)\n",
    "\n",
    "all_stats = pd.merge(left = des_stats,right = stats, left_index = True, right_index = True)"
   ]
  },
  {
   "cell_type": "code",
   "execution_count": 12,
   "id": "0928d117",
   "metadata": {},
   "outputs": [
    {
     "data": {
      "text/html": [
       "<div>\n",
       "<style scoped>\n",
       "    .dataframe tbody tr th:only-of-type {\n",
       "        vertical-align: middle;\n",
       "    }\n",
       "\n",
       "    .dataframe tbody tr th {\n",
       "        vertical-align: top;\n",
       "    }\n",
       "\n",
       "    .dataframe thead th {\n",
       "        text-align: right;\n",
       "    }\n",
       "</style>\n",
       "<table border=\"1\" class=\"dataframe\">\n",
       "  <thead>\n",
       "    <tr style=\"text-align: right;\">\n",
       "      <th></th>\n",
       "      <th>mean</th>\n",
       "      <th>std</th>\n",
       "      <th>min</th>\n",
       "      <th>25%</th>\n",
       "      <th>50%</th>\n",
       "      <th>75%</th>\n",
       "      <th>max</th>\n",
       "      <th>skew</th>\n",
       "      <th>kurt</th>\n",
       "    </tr>\n",
       "  </thead>\n",
       "  <tbody>\n",
       "    <tr>\n",
       "      <th>bedroom</th>\n",
       "      <td>2.103064</td>\n",
       "      <td>0.986132</td>\n",
       "      <td>1.0</td>\n",
       "      <td>1.0</td>\n",
       "      <td>2.0</td>\n",
       "      <td>3.0</td>\n",
       "      <td>15.0</td>\n",
       "      <td>1.4</td>\n",
       "      <td>7.8</td>\n",
       "    </tr>\n",
       "    <tr>\n",
       "      <th>price</th>\n",
       "      <td>47062.173176</td>\n",
       "      <td>103286.677747</td>\n",
       "      <td>1200.0</td>\n",
       "      <td>13000.0</td>\n",
       "      <td>20100.0</td>\n",
       "      <td>37000.0</td>\n",
       "      <td>5885000.0</td>\n",
       "      <td>10.5</td>\n",
       "      <td>266.8</td>\n",
       "    </tr>\n",
       "    <tr>\n",
       "      <th>area</th>\n",
       "      <td>1295.448487</td>\n",
       "      <td>1115.707184</td>\n",
       "      <td>3.0</td>\n",
       "      <td>650.0</td>\n",
       "      <td>1000.0</td>\n",
       "      <td>1450.0</td>\n",
       "      <td>19800.0</td>\n",
       "      <td>3.4</td>\n",
       "      <td>17.7</td>\n",
       "    </tr>\n",
       "    <tr>\n",
       "      <th>bathroom</th>\n",
       "      <td>2.069908</td>\n",
       "      <td>0.971900</td>\n",
       "      <td>1.0</td>\n",
       "      <td>1.0</td>\n",
       "      <td>2.0</td>\n",
       "      <td>3.0</td>\n",
       "      <td>19.0</td>\n",
       "      <td>1.6</td>\n",
       "      <td>8.9</td>\n",
       "    </tr>\n",
       "  </tbody>\n",
       "</table>\n",
       "</div>"
      ],
      "text/plain": [
       "                  mean            std     min      25%      50%      75%  \\\n",
       "bedroom       2.103064       0.986132     1.0      1.0      2.0      3.0   \n",
       "price     47062.173176  103286.677747  1200.0  13000.0  20100.0  37000.0   \n",
       "area       1295.448487    1115.707184     3.0    650.0   1000.0   1450.0   \n",
       "bathroom      2.069908       0.971900     1.0      1.0      2.0      3.0   \n",
       "\n",
       "                max  skew   kurt  \n",
       "bedroom        15.0   1.4    7.8  \n",
       "price     5885000.0  10.5  266.8  \n",
       "area        19800.0   3.4   17.7  \n",
       "bathroom       19.0   1.6    8.9  "
      ]
     },
     "execution_count": 12,
     "metadata": {},
     "output_type": "execute_result"
    }
   ],
   "source": [
    "all_stats"
   ]
  },
  {
   "cell_type": "code",
   "execution_count": 13,
   "id": "9437ba15",
   "metadata": {},
   "outputs": [
    {
     "data": {
      "text/html": [
       "<div>\n",
       "<style scoped>\n",
       "    .dataframe tbody tr th:only-of-type {\n",
       "        vertical-align: middle;\n",
       "    }\n",
       "\n",
       "    .dataframe tbody tr th {\n",
       "        vertical-align: top;\n",
       "    }\n",
       "\n",
       "    .dataframe thead th {\n",
       "        text-align: right;\n",
       "    }\n",
       "</style>\n",
       "<table border=\"1\" class=\"dataframe\">\n",
       "  <thead>\n",
       "    <tr style=\"text-align: right;\">\n",
       "      <th></th>\n",
       "      <th>unique</th>\n",
       "      <th>top</th>\n",
       "      <th>freq</th>\n",
       "    </tr>\n",
       "  </thead>\n",
       "  <tbody>\n",
       "    <tr>\n",
       "      <th>seller_type</th>\n",
       "      <td>3</td>\n",
       "      <td>AGENT</td>\n",
       "      <td>79156</td>\n",
       "    </tr>\n",
       "    <tr>\n",
       "      <th>layout_type</th>\n",
       "      <td>2</td>\n",
       "      <td>BHK</td>\n",
       "      <td>102280</td>\n",
       "    </tr>\n",
       "    <tr>\n",
       "      <th>property_type</th>\n",
       "      <td>6</td>\n",
       "      <td>Apartment</td>\n",
       "      <td>74162</td>\n",
       "    </tr>\n",
       "    <tr>\n",
       "      <th>locality</th>\n",
       "      <td>4146</td>\n",
       "      <td>Thane West</td>\n",
       "      <td>1925</td>\n",
       "    </tr>\n",
       "    <tr>\n",
       "      <th>furnish_type</th>\n",
       "      <td>3</td>\n",
       "      <td>Semi-Furnished</td>\n",
       "      <td>53521</td>\n",
       "    </tr>\n",
       "    <tr>\n",
       "      <th>city</th>\n",
       "      <td>8</td>\n",
       "      <td>Mumbai</td>\n",
       "      <td>32663</td>\n",
       "    </tr>\n",
       "  </tbody>\n",
       "</table>\n",
       "</div>"
      ],
      "text/plain": [
       "              unique             top    freq\n",
       "seller_type        3           AGENT   79156\n",
       "layout_type        2             BHK  102280\n",
       "property_type      6       Apartment   74162\n",
       "locality        4146      Thane West    1925\n",
       "furnish_type       3  Semi-Furnished   53521\n",
       "city               8          Mumbai   32663"
      ]
     },
     "execution_count": 13,
     "metadata": {},
     "output_type": "execute_result"
    }
   ],
   "source": [
    "sx = df.describe(exclude = ['int64', 'float64','float']).drop(index = ['count'], axis = 0).T\n",
    "sx"
   ]
  },
  {
   "cell_type": "code",
   "execution_count": 14,
   "id": "6f84dd1c",
   "metadata": {},
   "outputs": [
    {
     "name": "stdout",
     "output_type": "stream",
     "text": [
      "count    107613.000000\n",
      "mean      47062.173176\n",
      "std      103286.677747\n",
      "min        1200.000000\n",
      "25%       13000.000000\n",
      "50%       20100.000000\n",
      "75%       37000.000000\n",
      "max     5885000.000000\n",
      "Name: price, dtype: float64\n"
     ]
    }
   ],
   "source": [
    "with pd.option_context('float_format', '{:f}'.format): print(df[\"price\"].describe())"
   ]
  },
  {
   "cell_type": "code",
   "execution_count": 15,
   "id": "28e622e9",
   "metadata": {},
   "outputs": [
    {
     "data": {
      "image/png": "[encoded data removed]",
      "text/plain": [
       "<Figure size 1152x288 with 1 Axes>"
      ]
     },
     "metadata": {},
     "output_type": "display_data"
    }
   ],
   "source": [
    "# color palette\n",
    "#black  '#1F0C07',\n",
    "#light pink '#FA74BF'\n",
    "\n",
    "colors = ['#FB5B68','#FFEB48','#2676A1','#FFBDB0',]\n",
    "colormap = matplotlib.colors.LinearSegmentedColormap.from_list(\"\",colors)\n",
    "\n",
    "\n",
    "sns.palplot(colors, size = 4)\n",
    "plt.text(-0.75,-0.75, 'Apartment Rent Prediction',{'font':'serif', 'size':24, 'weight':'bold'})\n",
    "for idx,values in enumerate(colors):\n",
    "    plt.text(idx,-0.40, colors[idx],{'font':'serif', 'size':20, 'weight':'bold'}, alpha = 0.5)\n",
    "plt.gcf().set_facecolor('#f5f6f6')\n",
    "plt.box(None)\n",
    "plt.axis('off')\n",
    "plt.show()"
   ]
  },
  {
   "cell_type": "code",
   "execution_count": 16,
   "id": "e2573435",
   "metadata": {},
   "outputs": [
    {
     "name": "stderr",
     "output_type": "stream",
     "text": [
      "C:\\Users\\hriti\\AppData\\Local\\Temp\\ipykernel_14032\\1949006619.py:1: FutureWarning: Dropping of nuisance columns in DataFrame reductions (with 'numeric_only=None') is deprecated; in a future version this will raise TypeError.  Select only valid columns before calling the reduction.\n",
      "  df1=round(df[['price', 'property_type']].groupby('property_type').apply(lambda x: x.mean()))\n"
     ]
    },
    {
     "data": {
      "image/png": "[encoded data removed]",
      "text/plain": [
       "<Figure size 800x480 with 1 Axes>"
      ]
     },
     "metadata": {
      "needs_background": "light"
     },
     "output_type": "display_data"
    }
   ],
   "source": [
    "df1=round(df[['price', 'property_type']].groupby('property_type').apply(lambda x: x.mean()))\n",
    "df1.sort_values('price',inplace=True)\n",
    "df1.reset_index(inplace=True)\n",
    "\n",
    "fig, ax = plt.subplots(figsize=(10,6), dpi= 80)\n",
    "ax.vlines(x=df1.index,ymin=0,ymax=df1.price,color = colors[3],alpha=0.7,linewidth=2)\n",
    "ax.scatter(x=df1.index, y=df1.price, s=75, color='firebrick', alpha=0.7)\n",
    "\n",
    "# Title, Label, Ticks and Ylim\n",
    "#ax.set_title('Average of Property Type With Price', fontdict={'size':22})\n",
    "\n",
    "ax.set_xticks(df1.index)\n",
    "ax.set_xticklabels(df1.property_type.str.upper(), rotation=45, fontdict={'horizontalalignment': 'right', 'size':12})\n",
    "\n",
    "ax.set_facecolor('#f5f6f6')\n",
    "for loc in ['left', 'right', 'top', 'bottom']:\n",
    "        ax.spines[loc].set_visible(False)\n",
    "for row in df1.itertuples():\n",
    "    ax.text(row.Index, row.price+.5, s=round(row.price, 2), horizontalalignment= 'center', verticalalignment='bottom', fontsize=14)\n",
    "\n",
    "fig.text(0.2,0.98,\"Average of Price with Property Type:\",**{'font':'serif', 'size':18,'weight':'bold'}, alpha = 1)\n",
    "fig.text(0.1,0.90,\"As we can see Pent house is most costly:\",**{'font':'serif', 'size':12,'weight':'bold'}, alpha = 1)\n",
    "\n",
    "plt.show()"
   ]
  },
  {
   "cell_type": "code",
   "execution_count": 17,
   "id": "56a796e8",
   "metadata": {},
   "outputs": [
    {
     "name": "stderr",
     "output_type": "stream",
     "text": [
      "C:\\Users\\hriti\\anaconda3\\lib\\site-packages\\seaborn\\distributions.py:2619: FutureWarning: `distplot` is a deprecated function and will be removed in a future version. Please adapt your code to use either `displot` (a figure-level function with similar flexibility) or `histplot` (an axes-level function for histograms).\n",
      "  warnings.warn(msg, FutureWarning)\n"
     ]
    },
    {
     "data": {
      "image/png": "[encoded data removed]",
      "text/plain": [
       "<Figure size 1152x360 with 2 Axes>"
      ]
     },
     "metadata": {
      "needs_background": "light"
     },
     "output_type": "display_data"
    }
   ],
   "source": [
    "# Handle outliners\n",
    "\n",
    "plt.subplot(121)\n",
    "sns.distplot(df[\"price\"]);\n",
    "\n",
    "plt.subplot(122)\n",
    "df[\"price\"].plot.box(figsize=(16,5))\n",
    "\n",
    "plt.show()"
   ]
  },
  {
   "cell_type": "code",
   "execution_count": 18,
   "id": "8d85144d",
   "metadata": {},
   "outputs": [
    {
     "name": "stdout",
     "output_type": "stream",
     "text": [
      "Data type is <class 'pandas.core.frame.DataFrame'> \n",
      "\n",
      "Shape of dataframe is (102304, 10)\n",
      "\n"
     ]
    }
   ],
   "source": [
    "# drop houses whose rent is more than 200000\n",
    "\n",
    "df = df[df[\"price\"] <= 200000].reset_index(drop=True)\n",
    "\n",
    "print(\"Data type is {0} \\n\\nShape of dataframe is {1}\\n\".format(type(df), df.shape))"
   ]
  },
  {
   "cell_type": "code",
   "execution_count": 19,
   "id": "d30436b1",
   "metadata": {},
   "outputs": [
    {
     "name": "stderr",
     "output_type": "stream",
     "text": [
      "C:\\Users\\hriti\\anaconda3\\lib\\site-packages\\seaborn\\distributions.py:2619: FutureWarning: `distplot` is a deprecated function and will be removed in a future version. Please adapt your code to use either `displot` (a figure-level function with similar flexibility) or `histplot` (an axes-level function for histograms).\n",
      "  warnings.warn(msg, FutureWarning)\n"
     ]
    },
    {
     "data": {
      "image/png": "[encoded data removed]",
      "text/plain": [
       "<Figure size 1152x360 with 2 Axes>"
      ]
     },
     "metadata": {
      "needs_background": "light"
     },
     "output_type": "display_data"
    }
   ],
   "source": [
    "plt.subplot(121)\n",
    "sns.distplot(df[\"price\"]);\n",
    "\n",
    "plt.subplot(122)\n",
    "df[\"price\"].plot.box(figsize=(16,5))\n",
    "plt.savefig(\"distribution.png\", bbox_inches=\"tight\")\n",
    "\n",
    "plt.show()"
   ]
  },
  {
   "cell_type": "code",
   "execution_count": 20,
   "id": "b60cac8e",
   "metadata": {},
   "outputs": [
    {
     "name": "stderr",
     "output_type": "stream",
     "text": [
      "C:\\Users\\hriti\\AppData\\Local\\Temp\\ipykernel_14032\\2807351351.py:52: UserWarning: FixedFormatter should only be used together with FixedLocator\n",
      "  ax.set_xticklabels(df[col].value_counts().index , rotation = 90,**{'font':'serif', 'size':7.5, 'weight':'bold'}, alpha = 1)\n",
      "C:\\Users\\hriti\\AppData\\Local\\Temp\\ipykernel_14032\\2807351351.py:52: UserWarning: FixedFormatter should only be used together with FixedLocator\n",
      "  ax.set_xticklabels(df[col].value_counts().index , rotation = 90,**{'font':'serif', 'size':7.5, 'weight':'bold'}, alpha = 1)\n",
      "C:\\Users\\hriti\\AppData\\Local\\Temp\\ipykernel_14032\\2807351351.py:52: UserWarning: FixedFormatter should only be used together with FixedLocator\n",
      "  ax.set_xticklabels(df[col].value_counts().index , rotation = 90,**{'font':'serif', 'size':7.5, 'weight':'bold'}, alpha = 1)\n",
      "C:\\Users\\hriti\\AppData\\Local\\Temp\\ipykernel_14032\\2807351351.py:52: UserWarning: FixedFormatter should only be used together with FixedLocator\n",
      "  ax.set_xticklabels(df[col].value_counts().index , rotation = 90,**{'font':'serif', 'size':7.5, 'weight':'bold'}, alpha = 1)\n",
      "C:\\Users\\hriti\\AppData\\Local\\Temp\\ipykernel_14032\\2807351351.py:52: UserWarning: FixedFormatter should only be used together with FixedLocator\n",
      "  ax.set_xticklabels(df[col].value_counts().index , rotation = 90,**{'font':'serif', 'size':7.5, 'weight':'bold'}, alpha = 1)\n",
      "C:\\Users\\hriti\\AppData\\Local\\Temp\\ipykernel_14032\\2807351351.py:52: UserWarning: FixedFormatter should only be used together with FixedLocator\n",
      "  ax.set_xticklabels(df[col].value_counts().index , rotation = 90,**{'font':'serif', 'size':7.5, 'weight':'bold'}, alpha = 1)\n",
      "C:\\Users\\hriti\\AppData\\Local\\Temp\\ipykernel_14032\\2807351351.py:72: UserWarning: Matplotlib is currently using module://matplotlib_inline.backend_inline, which is a non-GUI backend, so cannot show the figure.\n",
      "  fig.show()\n"
     ]
    },
    {
     "data": {
      "image/png": "[encoded data removed]",
      "text/plain": [
       "<Figure size 1530x720 with 6 Axes>"
      ]
     },
     "metadata": {},
     "output_type": "display_data"
    }
   ],
   "source": [
    "fig =  plt.figure(figsize = (17,8), dpi = 90)\n",
    "fig.patch.set_facecolor('#f5f6f6')\n",
    "\n",
    "\n",
    "                                            \n",
    "gs = fig.add_gridspec(2,3)\n",
    "gs.update(wspace =0.1,hspace = 0.2)\n",
    "\n",
    "\n",
    "ax0 = fig.add_subplot(gs[0,0])\n",
    "ax1 = fig.add_subplot(gs[0,1])\n",
    "ax2 = fig.add_subplot(gs[0,2])\n",
    "\n",
    "ax3 = fig.add_subplot(gs[1,0])\n",
    "ax4 = fig.add_subplot(gs[1,1])\n",
    "ax5 = fig.add_subplot(gs[1,2])\n",
    "\n",
    "\n",
    "\n",
    "\n",
    "axes = [ax0,ax1,ax2,ax3, ax4,ax5,]\n",
    "\n",
    "\n",
    "for ax in axes:\n",
    "    ax.set_facecolor('#f5f6f6')\n",
    "    ax.tick_params(axis='x',\n",
    "                   labelsize = 1, which = 'major',\n",
    "                   direction = 'out',pad = 2,\n",
    "                   length = 1)\n",
    "    ax.tick_params(axis='y', colors= 'black')\n",
    "    ax.axes.get_yaxis().set_visible(False)\n",
    "    ax.axes.get_xaxis().set_visible(True)\n",
    "    \n",
    "    for loc in ['left', 'right', 'top', 'bottom']:\n",
    "        ax.spines[loc].set_visible(False)\n",
    "        \n",
    "cols = df.select_dtypes(exclude = ['int64','float64','float']).columns\n",
    "labels = ['seller_type', 'layout_type', 'property_type', 'locality', 'furnish_type Size', 'city']\n",
    "\n",
    "\n",
    "\n",
    "\n",
    "\n",
    "### ax0- carat\n",
    "s = 250\n",
    "\n",
    "for col,ax,label in zip(cols,axes,labels):\n",
    "    ax.bar(x = df[col].value_counts().index, height = df[col].value_counts().values, width = 0.1, color = colors[0] )\n",
    "    ax.scatter(x = df[col].value_counts().index, y = df[col].value_counts().values, s = s,color = colors[0] )\n",
    "    ht = df[col].value_counts().values.max()\n",
    "    ax.text(-1,ht/2.2 ,label,**{'font':'serif', 'size':12, 'weight':'bold', 'rotation' : 'vertical'}, alpha = 1)\n",
    "    ax.set_xticklabels(df[col].value_counts().index , rotation = 90,**{'font':'serif', 'size':7.5, 'weight':'bold'}, alpha = 1)\n",
    "    \n",
    "    \n",
    "    \n",
    "\n",
    "        \n",
    "ax0.set_xlim(-1,5)\n",
    "ax1.set_xlim(-1,7)\n",
    "ax2.set_xlim(-1,10)\n",
    "ax3.set_xlim(-1.6,4)\n",
    "ax4.set_xlim(-2,5)\n",
    "ax5.set_xlim(-2,5)\n",
    "\n",
    "\n",
    "\n",
    "\n",
    "\n",
    "\n",
    "\n",
    "\n",
    "fig.show()"
   ]
  },
  {
   "cell_type": "code",
   "execution_count": 21,
   "id": "60f47e29",
   "metadata": {},
   "outputs": [
    {
     "data": {
      "text/html": [
       "<div>\n",
       "<style scoped>\n",
       "    .dataframe tbody tr th:only-of-type {\n",
       "        vertical-align: middle;\n",
       "    }\n",
       "\n",
       "    .dataframe tbody tr th {\n",
       "        vertical-align: top;\n",
       "    }\n",
       "\n",
       "    .dataframe thead th {\n",
       "        text-align: right;\n",
       "    }\n",
       "</style>\n",
       "<table border=\"1\" class=\"dataframe\">\n",
       "  <thead>\n",
       "    <tr style=\"text-align: right;\">\n",
       "      <th></th>\n",
       "      <th>seller_type</th>\n",
       "      <th>bedroom</th>\n",
       "      <th>layout_type</th>\n",
       "      <th>property_type</th>\n",
       "      <th>locality</th>\n",
       "      <th>price</th>\n",
       "      <th>area</th>\n",
       "      <th>furnish_type</th>\n",
       "      <th>bathroom</th>\n",
       "      <th>city</th>\n",
       "    </tr>\n",
       "  </thead>\n",
       "  <tbody>\n",
       "    <tr>\n",
       "      <th>0</th>\n",
       "      <td>OWNER</td>\n",
       "      <td>2.0</td>\n",
       "      <td>BHK</td>\n",
       "      <td>Apartment</td>\n",
       "      <td>Bodakdev</td>\n",
       "      <td>20000.0</td>\n",
       "      <td>1450.0</td>\n",
       "      <td>Furnished</td>\n",
       "      <td>2.0</td>\n",
       "      <td>Ahmedabad</td>\n",
       "    </tr>\n",
       "    <tr>\n",
       "      <th>1</th>\n",
       "      <td>OWNER</td>\n",
       "      <td>1.0</td>\n",
       "      <td>RK</td>\n",
       "      <td>Studio Apartment</td>\n",
       "      <td>CG Road</td>\n",
       "      <td>7350.0</td>\n",
       "      <td>210.0</td>\n",
       "      <td>Semi-Furnished</td>\n",
       "      <td>1.0</td>\n",
       "      <td>Ahmedabad</td>\n",
       "    </tr>\n",
       "    <tr>\n",
       "      <th>2</th>\n",
       "      <td>OWNER</td>\n",
       "      <td>3.0</td>\n",
       "      <td>BHK</td>\n",
       "      <td>Apartment</td>\n",
       "      <td>Jodhpur</td>\n",
       "      <td>22000.0</td>\n",
       "      <td>1900.0</td>\n",
       "      <td>Unfurnished</td>\n",
       "      <td>3.0</td>\n",
       "      <td>Ahmedabad</td>\n",
       "    </tr>\n",
       "    <tr>\n",
       "      <th>3</th>\n",
       "      <td>OWNER</td>\n",
       "      <td>2.0</td>\n",
       "      <td>BHK</td>\n",
       "      <td>Independent House</td>\n",
       "      <td>Sanand</td>\n",
       "      <td>13000.0</td>\n",
       "      <td>1285.0</td>\n",
       "      <td>Semi-Furnished</td>\n",
       "      <td>2.0</td>\n",
       "      <td>Ahmedabad</td>\n",
       "    </tr>\n",
       "    <tr>\n",
       "      <th>4</th>\n",
       "      <td>OWNER</td>\n",
       "      <td>2.0</td>\n",
       "      <td>BHK</td>\n",
       "      <td>Independent House</td>\n",
       "      <td>Navrangpura</td>\n",
       "      <td>18000.0</td>\n",
       "      <td>1600.0</td>\n",
       "      <td>Furnished</td>\n",
       "      <td>2.0</td>\n",
       "      <td>Ahmedabad</td>\n",
       "    </tr>\n",
       "  </tbody>\n",
       "</table>\n",
       "</div>"
      ],
      "text/plain": [
       "  seller_type  bedroom layout_type      property_type     locality    price  \\\n",
       "0       OWNER      2.0         BHK          Apartment     Bodakdev  20000.0   \n",
       "1       OWNER      1.0          RK   Studio Apartment      CG Road   7350.0   \n",
       "2       OWNER      3.0         BHK          Apartment      Jodhpur  22000.0   \n",
       "3       OWNER      2.0         BHK  Independent House       Sanand  13000.0   \n",
       "4       OWNER      2.0         BHK  Independent House  Navrangpura  18000.0   \n",
       "\n",
       "     area    furnish_type  bathroom       city  \n",
       "0  1450.0       Furnished       2.0  Ahmedabad  \n",
       "1   210.0  Semi-Furnished       1.0  Ahmedabad  \n",
       "2  1900.0     Unfurnished       3.0  Ahmedabad  \n",
       "3  1285.0  Semi-Furnished       2.0  Ahmedabad  \n",
       "4  1600.0       Furnished       2.0  Ahmedabad  "
      ]
     },
     "execution_count": 21,
     "metadata": {},
     "output_type": "execute_result"
    }
   ],
   "source": [
    "df.head()"
   ]
  },
  {
   "cell_type": "code",
   "execution_count": 22,
   "id": "d58bc201",
   "metadata": {},
   "outputs": [
    {
     "data": {
      "image/png": "[encoded data removed]",
      "text/plain": [
       "<Figure size 1008x576 with 3 Axes>"
      ]
     },
     "metadata": {
      "needs_background": "light"
     },
     "output_type": "display_data"
    }
   ],
   "source": [
    "plt.figure(figsize=(14, 8))\n",
    "\n",
    "plt.subplot(2, 2, 1)\n",
    "plt.scatter(x=df[\"area\"], y=df[\"price\"])\n",
    "plt.xlabel(\"area\")\n",
    "plt.ylabel(\"price\")\n",
    "\n",
    "plt.subplot(2, 2, 2)\n",
    "plt.scatter(x=df[\"bathroom\"], y=df[\"price\"])\n",
    "plt.xlabel(\"bathroom\")\n",
    "plt.ylabel(\"price\")\n",
    "\n",
    "plt.subplot(2, 2, 3)\n",
    "plt.scatter(x=df[\"bedroom\"], y=df[\"price\"])\n",
    "plt.xlabel(\"bedroom\")\n",
    "plt.ylabel(\"price\")\n",
    "\n",
    "plt.savefig(\"scatterplots.png\", bbox_inches=\"tight\")\n",
    "plt.show()"
   ]
  },
  {
   "cell_type": "code",
   "execution_count": 23,
   "id": "e3018a08",
   "metadata": {},
   "outputs": [
    {
     "data": {
      "text/html": [
       "<div>\n",
       "<style scoped>\n",
       "    .dataframe tbody tr th:only-of-type {\n",
       "        vertical-align: middle;\n",
       "    }\n",
       "\n",
       "    .dataframe tbody tr th {\n",
       "        vertical-align: top;\n",
       "    }\n",
       "\n",
       "    .dataframe thead th {\n",
       "        text-align: right;\n",
       "    }\n",
       "</style>\n",
       "<table border=\"1\" class=\"dataframe\">\n",
       "  <thead>\n",
       "    <tr style=\"text-align: right;\">\n",
       "      <th></th>\n",
       "      <th>area</th>\n",
       "      <th>bathroom</th>\n",
       "      <th>bedroom</th>\n",
       "      <th>price</th>\n",
       "    </tr>\n",
       "  </thead>\n",
       "  <tbody>\n",
       "    <tr>\n",
       "      <th>area</th>\n",
       "      <td>1.000000</td>\n",
       "      <td>0.778461</td>\n",
       "      <td>0.796832</td>\n",
       "      <td>0.585877</td>\n",
       "    </tr>\n",
       "    <tr>\n",
       "      <th>bathroom</th>\n",
       "      <td>0.778461</td>\n",
       "      <td>1.000000</td>\n",
       "      <td>0.837659</td>\n",
       "      <td>0.555547</td>\n",
       "    </tr>\n",
       "    <tr>\n",
       "      <th>bedroom</th>\n",
       "      <td>0.796832</td>\n",
       "      <td>0.837659</td>\n",
       "      <td>1.000000</td>\n",
       "      <td>0.518031</td>\n",
       "    </tr>\n",
       "    <tr>\n",
       "      <th>price</th>\n",
       "      <td>0.585877</td>\n",
       "      <td>0.555547</td>\n",
       "      <td>0.518031</td>\n",
       "      <td>1.000000</td>\n",
       "    </tr>\n",
       "  </tbody>\n",
       "</table>\n",
       "</div>"
      ],
      "text/plain": [
       "              area  bathroom   bedroom     price\n",
       "area      1.000000  0.778461  0.796832  0.585877\n",
       "bathroom  0.778461  1.000000  0.837659  0.555547\n",
       "bedroom   0.796832  0.837659  1.000000  0.518031\n",
       "price     0.585877  0.555547  0.518031  1.000000"
      ]
     },
     "execution_count": 23,
     "metadata": {},
     "output_type": "execute_result"
    }
   ],
   "source": [
    "## Correlation ( gives relationship between features )\n",
    "corr = df[[\"area\", \"bathroom\", \"bedroom\", \"price\",\"locality\"]].corr()\n",
    "corr"
   ]
  },
  {
   "cell_type": "code",
   "execution_count": 24,
   "id": "f41ec89e",
   "metadata": {},
   "outputs": [
    {
     "data": {
      "image/png": "[encoded data removed]",
      "text/plain": [
       "<Figure size 576x432 with 2 Axes>"
      ]
     },
     "metadata": {
      "needs_background": "light"
     },
     "output_type": "display_data"
    }
   ],
   "source": [
    "plt.subplots(figsize=(8,6))\n",
    "\n",
    "fig = sns.heatmap(corr, \n",
    "            xticklabels=corr.columns.values,\n",
    "            yticklabels=corr.columns.values)\n",
    "\n",
    "fig.get_figure().savefig(\"corr_heatmap.png\", bbox_inches=\"tight\") "
   ]
  },
  {
   "cell_type": "code",
   "execution_count": 25,
   "id": "a62eca06",
   "metadata": {},
   "outputs": [
    {
     "data": {
      "text/plain": [
       "array(['Furnished', 'Semi-Furnished', 'Unfurnished'], dtype=object)"
      ]
     },
     "execution_count": 25,
     "metadata": {},
     "output_type": "execute_result"
    }
   ],
   "source": [
    "df[\"furnish_type\"].unique()"
   ]
  },
  {
   "cell_type": "code",
   "execution_count": 26,
   "id": "0f3a2f4c",
   "metadata": {},
   "outputs": [],
   "source": [
    "df[\"seller_type\"]=df[\"seller_type\"].map({'OWNER':0,'AGENT':1,'BUILDER':2})\n",
    "df[\"layout_type\"]=df[\"layout_type\"].map({'BHK':0,'RK':1})\n",
    "df[\"property_type\"]=df[\"property_type\"].map({'Apartment':0,'Studio Apartment':1,'Independent House':2,'Independent Floor':3,'Villa':4,'Penthouse':5})\n",
    "df[\"furnish_type\"]=df[\"furnish_type\"].map({'Furnished':0,'Semi-Furnished':1,'Unfurnished':2})\n",
    "df[\"city\"]=df[\"city\"].map({'Ahmedabad':0,'Bangalore':1,'Chennai':2,'Delhi':3,'Hyderabad':4,'Kolkata':5,'Mumbai':6,'Pune':7})"
   ]
  },
  {
   "cell_type": "code",
   "execution_count": 27,
   "id": "04f12e60",
   "metadata": {},
   "outputs": [
    {
     "data": {
      "text/html": [
       "<div>\n",
       "<style scoped>\n",
       "    .dataframe tbody tr th:only-of-type {\n",
       "        vertical-align: middle;\n",
       "    }\n",
       "\n",
       "    .dataframe tbody tr th {\n",
       "        vertical-align: top;\n",
       "    }\n",
       "\n",
       "    .dataframe thead th {\n",
       "        text-align: right;\n",
       "    }\n",
       "</style>\n",
       "<table border=\"1\" class=\"dataframe\">\n",
       "  <thead>\n",
       "    <tr style=\"text-align: right;\">\n",
       "      <th></th>\n",
       "      <th>seller_type</th>\n",
       "      <th>bedroom</th>\n",
       "      <th>layout_type</th>\n",
       "      <th>property_type</th>\n",
       "      <th>locality</th>\n",
       "      <th>price</th>\n",
       "      <th>area</th>\n",
       "      <th>furnish_type</th>\n",
       "      <th>bathroom</th>\n",
       "      <th>city</th>\n",
       "    </tr>\n",
       "  </thead>\n",
       "  <tbody>\n",
       "    <tr>\n",
       "      <th>0</th>\n",
       "      <td>0</td>\n",
       "      <td>2.0</td>\n",
       "      <td>0</td>\n",
       "      <td>0</td>\n",
       "      <td>Bodakdev</td>\n",
       "      <td>20000.0</td>\n",
       "      <td>1450.0</td>\n",
       "      <td>0</td>\n",
       "      <td>2.0</td>\n",
       "      <td>0</td>\n",
       "    </tr>\n",
       "    <tr>\n",
       "      <th>1</th>\n",
       "      <td>0</td>\n",
       "      <td>1.0</td>\n",
       "      <td>1</td>\n",
       "      <td>1</td>\n",
       "      <td>CG Road</td>\n",
       "      <td>7350.0</td>\n",
       "      <td>210.0</td>\n",
       "      <td>1</td>\n",
       "      <td>1.0</td>\n",
       "      <td>0</td>\n",
       "    </tr>\n",
       "    <tr>\n",
       "      <th>2</th>\n",
       "      <td>0</td>\n",
       "      <td>3.0</td>\n",
       "      <td>0</td>\n",
       "      <td>0</td>\n",
       "      <td>Jodhpur</td>\n",
       "      <td>22000.0</td>\n",
       "      <td>1900.0</td>\n",
       "      <td>2</td>\n",
       "      <td>3.0</td>\n",
       "      <td>0</td>\n",
       "    </tr>\n",
       "    <tr>\n",
       "      <th>3</th>\n",
       "      <td>0</td>\n",
       "      <td>2.0</td>\n",
       "      <td>0</td>\n",
       "      <td>2</td>\n",
       "      <td>Sanand</td>\n",
       "      <td>13000.0</td>\n",
       "      <td>1285.0</td>\n",
       "      <td>1</td>\n",
       "      <td>2.0</td>\n",
       "      <td>0</td>\n",
       "    </tr>\n",
       "    <tr>\n",
       "      <th>4</th>\n",
       "      <td>0</td>\n",
       "      <td>2.0</td>\n",
       "      <td>0</td>\n",
       "      <td>2</td>\n",
       "      <td>Navrangpura</td>\n",
       "      <td>18000.0</td>\n",
       "      <td>1600.0</td>\n",
       "      <td>0</td>\n",
       "      <td>2.0</td>\n",
       "      <td>0</td>\n",
       "    </tr>\n",
       "  </tbody>\n",
       "</table>\n",
       "</div>"
      ],
      "text/plain": [
       "   seller_type  bedroom  layout_type  property_type     locality    price  \\\n",
       "0            0      2.0            0              0     Bodakdev  20000.0   \n",
       "1            0      1.0            1              1      CG Road   7350.0   \n",
       "2            0      3.0            0              0      Jodhpur  22000.0   \n",
       "3            0      2.0            0              2       Sanand  13000.0   \n",
       "4            0      2.0            0              2  Navrangpura  18000.0   \n",
       "\n",
       "     area  furnish_type  bathroom  city  \n",
       "0  1450.0             0       2.0     0  \n",
       "1   210.0             1       1.0     0  \n",
       "2  1900.0             2       3.0     0  \n",
       "3  1285.0             1       2.0     0  \n",
       "4  1600.0             0       2.0     0  "
      ]
     },
     "execution_count": 27,
     "metadata": {},
     "output_type": "execute_result"
    }
   ],
   "source": [
    "df.head()"
   ]
  },
  {
   "cell_type": "code",
   "execution_count": 28,
   "id": "ad40d5c1",
   "metadata": {},
   "outputs": [],
   "source": [
    "# take log on prices and area , it gives better result\n",
    "\n",
    "df[\"price\"]=np.log(df[\"price\"])\n",
    "df[\"area\"]=np.log(df[\"area\"])"
   ]
  },
  {
   "cell_type": "code",
   "execution_count": 29,
   "id": "142d80f7",
   "metadata": {},
   "outputs": [
    {
     "name": "stderr",
     "output_type": "stream",
     "text": [
      "C:\\Users\\hriti\\anaconda3\\lib\\site-packages\\seaborn\\distributions.py:2619: FutureWarning: `distplot` is a deprecated function and will be removed in a future version. Please adapt your code to use either `displot` (a figure-level function with similar flexibility) or `histplot` (an axes-level function for histograms).\n",
      "  warnings.warn(msg, FutureWarning)\n"
     ]
    },
    {
     "data": {
      "image/png": "[encoded data removed]",
      "text/plain": [
       "<Figure size 1152x360 with 2 Axes>"
      ]
     },
     "metadata": {
      "needs_background": "light"
     },
     "output_type": "display_data"
    }
   ],
   "source": [
    "plt.subplot(121)\n",
    "sns.distplot(df[\"price\"]);\n",
    "\n",
    "plt.subplot(122)\n",
    "df[\"price\"].plot.box(figsize=(16,5))\n",
    "plt.savefig(\"distribution.png\", bbox_inches=\"tight\")\n",
    "\n",
    "plt.show()"
   ]
  },
  {
   "cell_type": "code",
   "execution_count": 30,
   "id": "7c785bd2",
   "metadata": {},
   "outputs": [],
   "source": [
    "dum=pd.get_dummies(df[\"locality\"],drop_first=True)"
   ]
  },
  {
   "cell_type": "code",
   "execution_count": 31,
   "id": "956be96c",
   "metadata": {},
   "outputs": [
    {
     "data": {
      "text/plain": [
       "Index(['10 Sector Number 3 Road', '10 Sector Number 6 Road', '100 Feet Road',\n",
       "       '11 Sector Number 6 Road', '14TH ROAD', '17th Main Road',\n",
       "       '1st Block Jayanagar', '1st Cross', '1st Phase JP Nagar',\n",
       "       '1st block Kalyan Nagar',\n",
       "       ...\n",
       "       'vignan nagar', 'vikaspuri', 'vile parle', 'vile parle east',\n",
       "       'vile parle west', 'vivekananda Nagar', 'wadebolhai', 'wakad',\n",
       "       'worli sea Fase', 'yogi nagar'],\n",
       "      dtype='object', length=4115)"
      ]
     },
     "execution_count": 31,
     "metadata": {},
     "output_type": "execute_result"
    }
   ],
   "source": [
    "dum.columns"
   ]
  },
  {
   "cell_type": "code",
   "execution_count": 32,
   "id": "61c1fa4f",
   "metadata": {},
   "outputs": [],
   "source": [
    "dum2=pd.DataFrame(dum,columns=dum.columns)"
   ]
  },
  {
   "cell_type": "code",
   "execution_count": 33,
   "id": "c2a9b5e8",
   "metadata": {},
   "outputs": [],
   "source": [
    "df2=pd.concat([df,dum2],axis=1)"
   ]
  },
  {
   "cell_type": "code",
   "execution_count": 34,
   "id": "7a251d2a",
   "metadata": {},
   "outputs": [],
   "source": [
    "df2.drop(\"locality\",axis=1,inplace=True)"
   ]
  },
  {
   "cell_type": "code",
   "execution_count": 35,
   "id": "0828d96e",
   "metadata": {},
   "outputs": [
    {
     "name": "stdout",
     "output_type": "stream",
     "text": [
      "<class 'pandas.core.frame.DataFrame'>\n",
      "RangeIndex: 102304 entries, 0 to 102303\n",
      "Columns: 4124 entries, seller_type to yogi nagar\n",
      "dtypes: float64(4), int64(5), uint8(4115)\n",
      "memory usage: 408.5 MB\n"
     ]
    }
   ],
   "source": [
    "df2.info()"
   ]
  },
  {
   "cell_type": "code",
   "execution_count": 36,
   "id": "7ed4e2cd",
   "metadata": {},
   "outputs": [
    {
     "data": {
      "text/html": [
       "<div>\n",
       "<style scoped>\n",
       "    .dataframe tbody tr th:only-of-type {\n",
       "        vertical-align: middle;\n",
       "    }\n",
       "\n",
       "    .dataframe tbody tr th {\n",
       "        vertical-align: top;\n",
       "    }\n",
       "\n",
       "    .dataframe thead th {\n",
       "        text-align: right;\n",
       "    }\n",
       "</style>\n",
       "<table border=\"1\" class=\"dataframe\">\n",
       "  <thead>\n",
       "    <tr style=\"text-align: right;\">\n",
       "      <th></th>\n",
       "      <th>seller_type</th>\n",
       "      <th>bedroom</th>\n",
       "      <th>layout_type</th>\n",
       "      <th>property_type</th>\n",
       "      <th>price</th>\n",
       "      <th>area</th>\n",
       "      <th>furnish_type</th>\n",
       "      <th>bathroom</th>\n",
       "      <th>city</th>\n",
       "      <th>10 Sector Number 3 Road</th>\n",
       "      <th>...</th>\n",
       "      <th>vignan nagar</th>\n",
       "      <th>vikaspuri</th>\n",
       "      <th>vile parle</th>\n",
       "      <th>vile parle east</th>\n",
       "      <th>vile parle west</th>\n",
       "      <th>vivekananda Nagar</th>\n",
       "      <th>wadebolhai</th>\n",
       "      <th>wakad</th>\n",
       "      <th>worli sea Fase</th>\n",
       "      <th>yogi nagar</th>\n",
       "    </tr>\n",
       "  </thead>\n",
       "  <tbody>\n",
       "    <tr>\n",
       "      <th>0</th>\n",
       "      <td>0</td>\n",
       "      <td>2.0</td>\n",
       "      <td>0</td>\n",
       "      <td>0</td>\n",
       "      <td>9.903488</td>\n",
       "      <td>7.279319</td>\n",
       "      <td>0</td>\n",
       "      <td>2.0</td>\n",
       "      <td>0</td>\n",
       "      <td>0</td>\n",
       "      <td>...</td>\n",
       "      <td>0</td>\n",
       "      <td>0</td>\n",
       "      <td>0</td>\n",
       "      <td>0</td>\n",
       "      <td>0</td>\n",
       "      <td>0</td>\n",
       "      <td>0</td>\n",
       "      <td>0</td>\n",
       "      <td>0</td>\n",
       "      <td>0</td>\n",
       "    </tr>\n",
       "    <tr>\n",
       "      <th>1</th>\n",
       "      <td>0</td>\n",
       "      <td>1.0</td>\n",
       "      <td>1</td>\n",
       "      <td>1</td>\n",
       "      <td>8.902456</td>\n",
       "      <td>5.347108</td>\n",
       "      <td>1</td>\n",
       "      <td>1.0</td>\n",
       "      <td>0</td>\n",
       "      <td>0</td>\n",
       "      <td>...</td>\n",
       "      <td>0</td>\n",
       "      <td>0</td>\n",
       "      <td>0</td>\n",
       "      <td>0</td>\n",
       "      <td>0</td>\n",
       "      <td>0</td>\n",
       "      <td>0</td>\n",
       "      <td>0</td>\n",
       "      <td>0</td>\n",
       "      <td>0</td>\n",
       "    </tr>\n",
       "    <tr>\n",
       "      <th>2</th>\n",
       "      <td>0</td>\n",
       "      <td>3.0</td>\n",
       "      <td>0</td>\n",
       "      <td>0</td>\n",
       "      <td>9.998798</td>\n",
       "      <td>7.549609</td>\n",
       "      <td>2</td>\n",
       "      <td>3.0</td>\n",
       "      <td>0</td>\n",
       "      <td>0</td>\n",
       "      <td>...</td>\n",
       "      <td>0</td>\n",
       "      <td>0</td>\n",
       "      <td>0</td>\n",
       "      <td>0</td>\n",
       "      <td>0</td>\n",
       "      <td>0</td>\n",
       "      <td>0</td>\n",
       "      <td>0</td>\n",
       "      <td>0</td>\n",
       "      <td>0</td>\n",
       "    </tr>\n",
       "    <tr>\n",
       "      <th>3</th>\n",
       "      <td>0</td>\n",
       "      <td>2.0</td>\n",
       "      <td>0</td>\n",
       "      <td>2</td>\n",
       "      <td>9.472705</td>\n",
       "      <td>7.158514</td>\n",
       "      <td>1</td>\n",
       "      <td>2.0</td>\n",
       "      <td>0</td>\n",
       "      <td>0</td>\n",
       "      <td>...</td>\n",
       "      <td>0</td>\n",
       "      <td>0</td>\n",
       "      <td>0</td>\n",
       "      <td>0</td>\n",
       "      <td>0</td>\n",
       "      <td>0</td>\n",
       "      <td>0</td>\n",
       "      <td>0</td>\n",
       "      <td>0</td>\n",
       "      <td>0</td>\n",
       "    </tr>\n",
       "    <tr>\n",
       "      <th>4</th>\n",
       "      <td>0</td>\n",
       "      <td>2.0</td>\n",
       "      <td>0</td>\n",
       "      <td>2</td>\n",
       "      <td>9.798127</td>\n",
       "      <td>7.377759</td>\n",
       "      <td>0</td>\n",
       "      <td>2.0</td>\n",
       "      <td>0</td>\n",
       "      <td>0</td>\n",
       "      <td>...</td>\n",
       "      <td>0</td>\n",
       "      <td>0</td>\n",
       "      <td>0</td>\n",
       "      <td>0</td>\n",
       "      <td>0</td>\n",
       "      <td>0</td>\n",
       "      <td>0</td>\n",
       "      <td>0</td>\n",
       "      <td>0</td>\n",
       "      <td>0</td>\n",
       "    </tr>\n",
       "  </tbody>\n",
       "</table>\n",
       "<p>5 rows × 4124 columns</p>\n",
       "</div>"
      ],
      "text/plain": [
       "   seller_type  bedroom  layout_type  property_type     price      area  \\\n",
       "0            0      2.0            0              0  9.903488  7.279319   \n",
       "1            0      1.0            1              1  8.902456  5.347108   \n",
       "2            0      3.0            0              0  9.998798  7.549609   \n",
       "3            0      2.0            0              2  9.472705  7.158514   \n",
       "4            0      2.0            0              2  9.798127  7.377759   \n",
       "\n",
       "   furnish_type  bathroom  city  10 Sector Number 3 Road  ...  vignan nagar  \\\n",
       "0             0       2.0     0                        0  ...             0   \n",
       "1             1       1.0     0                        0  ...             0   \n",
       "2             2       3.0     0                        0  ...             0   \n",
       "3             1       2.0     0                        0  ...             0   \n",
       "4             0       2.0     0                        0  ...             0   \n",
       "\n",
       "   vikaspuri  vile parle  vile parle east  vile parle west  vivekananda Nagar  \\\n",
       "0          0           0                0                0                  0   \n",
       "1          0           0                0                0                  0   \n",
       "2          0           0                0                0                  0   \n",
       "3          0           0                0                0                  0   \n",
       "4          0           0                0                0                  0   \n",
       "\n",
       "   wadebolhai  wakad  worli sea Fase  yogi nagar  \n",
       "0           0      0               0           0  \n",
       "1           0      0               0           0  \n",
       "2           0      0               0           0  \n",
       "3           0      0               0           0  \n",
       "4           0      0               0           0  \n",
       "\n",
       "[5 rows x 4124 columns]"
      ]
     },
     "execution_count": 36,
     "metadata": {},
     "output_type": "execute_result"
    }
   ],
   "source": [
    "df2.head()"
   ]
  },
  {
   "cell_type": "code",
   "execution_count": 37,
   "id": "3013cae8",
   "metadata": {},
   "outputs": [],
   "source": [
    "##\n",
    "# MOdelling\n",
    "\n",
    "X=df2.drop(\"price\",axis=1)\n",
    "y=df2[\"price\"]"
   ]
  },
  {
   "cell_type": "code",
   "execution_count": 38,
   "id": "12825cd2",
   "metadata": {},
   "outputs": [
    {
     "data": {
      "text/plain": [
       "0         9.903488\n",
       "1         8.902456\n",
       "2         9.998798\n",
       "3         9.472705\n",
       "4         9.798127\n",
       "            ...   \n",
       "102299    9.491753\n",
       "102300    8.853665\n",
       "102301    9.047821\n",
       "102302    9.711116\n",
       "102303    9.392662\n",
       "Name: price, Length: 102304, dtype: float64"
      ]
     },
     "execution_count": 38,
     "metadata": {},
     "output_type": "execute_result"
    }
   ],
   "source": [
    "y"
   ]
  },
  {
   "cell_type": "code",
   "execution_count": 39,
   "id": "0296872d",
   "metadata": {},
   "outputs": [],
   "source": [
    "from sklearn.model_selection import train_test_split\n",
    "X_train,X_test,y_train,y_test=train_test_split(X,y,test_size=0.20,random_state=0)"
   ]
  },
  {
   "cell_type": "code",
   "execution_count": 40,
   "id": "bfec7903",
   "metadata": {},
   "outputs": [],
   "source": [
    "from sklearn import metrics"
   ]
  },
  {
   "cell_type": "code",
   "execution_count": 41,
   "id": "b7341f3d",
   "metadata": {},
   "outputs": [
    {
     "data": {
      "text/plain": [
       "LinearRegression()"
      ]
     },
     "execution_count": 41,
     "metadata": {},
     "output_type": "execute_result"
    }
   ],
   "source": [
    "from sklearn.linear_model import LinearRegression\n",
    "regressor = LinearRegression()\n",
    "regressor.fit(X_train, y_train)"
   ]
  },
  {
   "cell_type": "code",
   "execution_count": 42,
   "id": "0ea516d1",
   "metadata": {},
   "outputs": [],
   "source": [
    "# make predictions\n",
    "y_pred = regressor.predict(X_test)"
   ]
  },
  {
   "cell_type": "code",
   "execution_count": 43,
   "id": "8344b970",
   "metadata": {},
   "outputs": [
    {
     "name": "stdout",
     "output_type": "stream",
     "text": [
      "Linear Regression R-squared: -2.186106102100458e+18\n"
     ]
    }
   ],
   "source": [
    "print(\"Linear Regression R-squared: {}\".format(regressor.score(X_test, y_test)))"
   ]
  },
  {
   "cell_type": "code",
   "execution_count": 44,
   "id": "62787a8c",
   "metadata": {},
   "outputs": [
    {
     "name": "stdout",
     "output_type": "stream",
     "text": [
      "Liner Regression R-squared: -2.186106102100458e+18\n"
     ]
    }
   ],
   "source": [
    "# another method of calculating R-squared\n",
    "from sklearn.metrics import r2_score\n",
    "lin_r2 = r2_score(y_test, y_pred)\n",
    "\n",
    "print(\"Liner Regression R-squared: {}\".format(lin_r2))"
   ]
  },
  {
   "cell_type": "code",
   "execution_count": 45,
   "id": "1657d826",
   "metadata": {},
   "outputs": [
    {
     "name": "stdout",
     "output_type": "stream",
     "text": [
      "Liner Regression RMSE: 1106631883.2049315\n"
     ]
    }
   ],
   "source": [
    "from sklearn.metrics import mean_squared_error\n",
    "\n",
    "lin_mse = mean_squared_error(y_pred, y_test)\n",
    "lin_rmse = np.sqrt(lin_mse)\n",
    "print(\"Liner Regression RMSE: {}\".format(lin_rmse))"
   ]
  },
  {
   "cell_type": "code",
   "execution_count": 46,
   "id": "4f37c5ef",
   "metadata": {},
   "outputs": [
    {
     "name": "stdout",
     "output_type": "stream",
     "text": [
      "Liner Regression MAE: 38055305.55126557\n"
     ]
    }
   ],
   "source": [
    "from sklearn.metrics import mean_absolute_error\n",
    "\n",
    "lin_mae = mean_absolute_error(y_pred, y_test)\n",
    "print(\"Liner Regression MAE: {}\".format(lin_mae))"
   ]
  },
  {
   "cell_type": "code",
   "execution_count": 47,
   "id": "1b1addbe",
   "metadata": {},
   "outputs": [
    {
     "data": {
      "text/plain": [
       "RandomForestRegressor(random_state=0)"
      ]
     },
     "execution_count": 47,
     "metadata": {},
     "output_type": "execute_result"
    }
   ],
   "source": [
    "from sklearn.ensemble import RandomForestRegressor\n",
    "model=RandomForestRegressor(random_state=0)\n",
    "model.fit(X_train,y_train)"
   ]
  },
  {
   "cell_type": "code",
   "execution_count": 48,
   "id": "75a86fd4",
   "metadata": {},
   "outputs": [],
   "source": [
    "y_pred =model.predict(X_test)"
   ]
  },
  {
   "cell_type": "code",
   "execution_count": 49,
   "id": "8366cb6b",
   "metadata": {},
   "outputs": [
    {
     "data": {
      "text/plain": [
       "0.8404047353738419"
      ]
     },
     "execution_count": 49,
     "metadata": {},
     "output_type": "execute_result"
    }
   ],
   "source": [
    "model.score(X_test,y_test)"
   ]
  },
  {
   "cell_type": "code",
   "execution_count": 50,
   "id": "dd2ab4bb",
   "metadata": {},
   "outputs": [
    {
     "name": "stdout",
     "output_type": "stream",
     "text": [
      "Random Forest R-squared: 0.8404047353738419\n"
     ]
    }
   ],
   "source": [
    "print(\"Random Forest R-squared: {}\".format(model.score(X_test, y_test)))"
   ]
  },
  {
   "cell_type": "code",
   "execution_count": 51,
   "id": "aaa5b0b6",
   "metadata": {},
   "outputs": [
    {
     "name": "stdout",
     "output_type": "stream",
     "text": [
      "Random Forest R-squared: 0.8404047353738419\n"
     ]
    }
   ],
   "source": [
    "# another method of calculating R-squared\n",
    "from sklearn.metrics import r2_score\n",
    "forest_r2 = r2_score(y_test, y_pred)\n",
    "\n",
    "print(\"Random Forest R-squared: {}\".format(forest_r2))"
   ]
  },
  {
   "cell_type": "code",
   "execution_count": 52,
   "id": "583996fa",
   "metadata": {},
   "outputs": [
    {
     "name": "stdout",
     "output_type": "stream",
     "text": [
      "Random Forest Regression RMSE: 0.2990043873627265\n"
     ]
    }
   ],
   "source": [
    "from sklearn.metrics import mean_squared_error\n",
    "\n",
    "forest_mse = mean_squared_error(y_pred, y_test)\n",
    "forest_rmse = np.sqrt(forest_mse)\n",
    "print(\"Random Forest Regression RMSE: {}\".format(forest_rmse))"
   ]
  },
  {
   "cell_type": "code",
   "execution_count": 53,
   "id": "8310db54",
   "metadata": {},
   "outputs": [
    {
     "name": "stdout",
     "output_type": "stream",
     "text": [
      "Random Forest Regression MAE: 0.20905841905560535\n"
     ]
    }
   ],
   "source": [
    "from sklearn.metrics import mean_absolute_error\n",
    "\n",
    "forest_mae = mean_absolute_error(y_pred, y_test)\n",
    "print(\"Random Forest Regression MAE: {}\".format(forest_mae))\n"
   ]
  },
  {
   "cell_type": "code",
   "execution_count": 54,
   "id": "530826f9",
   "metadata": {},
   "outputs": [],
   "source": [
    "# import GradientBoostingRegressor\n",
    "from sklearn.ensemble import GradientBoostingRegressor\n",
    "gbreg = GradientBoostingRegressor(random_state=0)"
   ]
  },
  {
   "cell_type": "code",
   "execution_count": 55,
   "id": "a9aeb358",
   "metadata": {},
   "outputs": [
    {
     "data": {
      "text/plain": [
       "GradientBoostingRegressor(random_state=0)"
      ]
     },
     "execution_count": 55,
     "metadata": {},
     "output_type": "execute_result"
    }
   ],
   "source": [
    "gbreg.fit(X_train, y_train)"
   ]
  },
  {
   "cell_type": "code",
   "execution_count": 56,
   "id": "9a344343",
   "metadata": {},
   "outputs": [],
   "source": [
    "y_pred = gbreg.predict(X_test)"
   ]
  },
  {
   "cell_type": "code",
   "execution_count": 57,
   "id": "c0c9372b",
   "metadata": {},
   "outputs": [
    {
     "name": "stdout",
     "output_type": "stream",
     "text": [
      "Gradient Boosting Regressor R-squared: 0.7416459381191645\n"
     ]
    }
   ],
   "source": [
    "print(\"Gradient Boosting Regressor R-squared: {}\".format(gbreg.score(X_test, y_test)))"
   ]
  },
  {
   "cell_type": "code",
   "execution_count": 58,
   "id": "7ac2f10c",
   "metadata": {},
   "outputs": [
    {
     "name": "stdout",
     "output_type": "stream",
     "text": [
      "Gradient Boosting Regressor R-squared: 0.7416459381191645\n"
     ]
    }
   ],
   "source": [
    "from sklearn.metrics import r2_score\n",
    "gbr_r2 = r2_score(y_test, y_pred)\n",
    "\n",
    "print(\"Gradient Boosting Regressor R-squared: {}\".format(gbr_r2))"
   ]
  },
  {
   "cell_type": "code",
   "execution_count": 59,
   "id": "ca978a37",
   "metadata": {},
   "outputs": [
    {
     "name": "stdout",
     "output_type": "stream",
     "text": [
      "Gradient Boosting Regressor Regression RMSE: 0.3804303941895326\n"
     ]
    }
   ],
   "source": [
    "from sklearn.metrics import mean_squared_error\n",
    "\n",
    "gbr_mse = mean_squared_error(y_pred, y_test)\n",
    "gbr_rmse = np.sqrt(gbr_mse)\n",
    "print(\"Gradient Boosting Regressor Regression RMSE: {}\".format(gbr_rmse))"
   ]
  },
  {
   "cell_type": "code",
   "execution_count": 60,
   "id": "5be70e17",
   "metadata": {},
   "outputs": [
    {
     "name": "stdout",
     "output_type": "stream",
     "text": [
      "Gradient Boosting Regressor Regression MAE: 0.29231970656910683\n"
     ]
    }
   ],
   "source": [
    "from sklearn.metrics import mean_absolute_error\n",
    "\n",
    "gbr_mae = mean_absolute_error(y_pred, y_test)\n",
    "print(\"Gradient Boosting Regressor Regression MAE: {}\".format(gbr_mae))"
   ]
  },
  {
   "cell_type": "code",
   "execution_count": 61,
   "id": "8b069b16",
   "metadata": {},
   "outputs": [
    {
     "data": {
      "text/html": [
       "<div>\n",
       "<style scoped>\n",
       "    .dataframe tbody tr th:only-of-type {\n",
       "        vertical-align: middle;\n",
       "    }\n",
       "\n",
       "    .dataframe tbody tr th {\n",
       "        vertical-align: top;\n",
       "    }\n",
       "\n",
       "    .dataframe thead th {\n",
       "        text-align: right;\n",
       "    }\n",
       "</style>\n",
       "<table border=\"1\" class=\"dataframe\">\n",
       "  <thead>\n",
       "    <tr style=\"text-align: right;\">\n",
       "      <th></th>\n",
       "      <th>Model</th>\n",
       "      <th>R-squared</th>\n",
       "      <th>RMSE</th>\n",
       "      <th>MAE</th>\n",
       "    </tr>\n",
       "  </thead>\n",
       "  <tbody>\n",
       "    <tr>\n",
       "      <th>0</th>\n",
       "      <td>Linear Regression</td>\n",
       "      <td>-2.186106e+18</td>\n",
       "      <td>1.106632e+09</td>\n",
       "      <td>3.805531e+07</td>\n",
       "    </tr>\n",
       "    <tr>\n",
       "      <th>1</th>\n",
       "      <td>Random Forest</td>\n",
       "      <td>8.404047e-01</td>\n",
       "      <td>2.990044e-01</td>\n",
       "      <td>2.090584e-01</td>\n",
       "    </tr>\n",
       "    <tr>\n",
       "      <th>2</th>\n",
       "      <td>Gradient Boosting</td>\n",
       "      <td>7.416459e-01</td>\n",
       "      <td>3.804304e-01</td>\n",
       "      <td>2.923197e-01</td>\n",
       "    </tr>\n",
       "  </tbody>\n",
       "</table>\n",
       "</div>"
      ],
      "text/plain": [
       "               Model     R-squared          RMSE           MAE\n",
       "0  Linear Regression -2.186106e+18  1.106632e+09  3.805531e+07\n",
       "1      Random Forest  8.404047e-01  2.990044e-01  2.090584e-01\n",
       "2  Gradient Boosting  7.416459e-01  3.804304e-01  2.923197e-01"
      ]
     },
     "execution_count": 61,
     "metadata": {},
     "output_type": "execute_result"
    }
   ],
   "source": [
    "data = {\"Model\": [\"Linear Regression\", \"Random Forest\", \"Gradient Boosting\"], \n",
    "        \"R-squared\": [lin_r2, forest_r2, gbr_r2],           \n",
    "        \"RMSE\": [lin_rmse, forest_rmse, gbr_rmse],\n",
    "        \"MAE\": [lin_mae, forest_mae, gbr_mae]}\n",
    "\n",
    "results = pd.DataFrame(data=data)\n",
    "results"
   ]
  },
  {
   "cell_type": "code",
   "execution_count": 62,
   "id": "ad4d3bc4",
   "metadata": {},
   "outputs": [],
   "source": [
    "# Suggestions for Improvement\n",
    "#collect more data, include more states like Penang and other parts of Malaysia\n",
    "#select other features or conduct feature engineering on existing features\n",
    "#further fine tune the hyperparameters of the models\n",
    "\n",
    "\n"
   ]
  },
  {
   "cell_type": "code",
   "execution_count": 63,
   "id": "43b58c98",
   "metadata": {},
   "outputs": [],
   "source": [
    "#Discussion and Conclusion\n",
    "#i.e. 84.14% of the variability in rental prices can be explained using the several features. \n",
    "#Among all the models, Gradient Boosting Regressor also has the lowest RMSE and MAE values. .\n"
   ]
  },
  {
   "cell_type": "code",
   "execution_count": null,
   "id": "7cf32d80",
   "metadata": {},
   "outputs": [],
   "source": []
  }
 ],
 "metadata": {
  "kernelspec": {
   "display_name": "Python 3 (ipykernel)",
   "language": "python",
   "name": "python3"
  },
  "language_info": {
   "codemirror_mode": {
    "name": "ipython",
    "version": 3
   },
   "file_extension": ".py",
   "mimetype": "text/x-python",
   "name": "python",
   "nbconvert_exporter": "python",
   "pygments_lexer": "ipython3",
   "version": "3.9.12"
  }
 },
 "nbformat": 4,
 "nbformat_minor": 5
}
